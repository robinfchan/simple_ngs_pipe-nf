{
 "cells": [
  {
   "cell_type": "code",
   "execution_count": 29,
   "metadata": {},
   "outputs": [],
   "source": [
    "import subprocess\n",
    "import regex\n",
    "from Bio.Seq import Seq"
   ]
  },
  {
   "cell_type": "code",
   "execution_count": 30,
   "metadata": {},
   "outputs": [],
   "source": [
    "# >hg38_dna range=chr12:18457034-18457433 5'pad=50 3'pad=50 strand=+ repeatMasking=none\n",
    "\n",
    "amplicon = \"AAGCATTGTAATGTGAAATACAAGTACAATGGAAACATAGAAAAAGGAAC\\\n",
    "AATAAGGGTAGACTGGGATAGAGAAACTGGCTGGGAGGAGACAAGACCAA\\\n",
    "ACTGGAGCCATGGATAATGGATAGAAGGAAGATACACAGATTATACTGTA\\\n",
    "TTGTGTAGTTTGTGCATAGGAAATTACTGAATACATATAAATATAAAATT\\\n",
    "GATGTTCGCAGAGAATAGTTAAGTGCTTTCCTTTGATTCTGCAAAGTCAT\\\n",
    "ATATTACCCCTCTCTTTCTTTCTGAATTTCCTTTTGGATGGCAATTGAGG\\\n",
    "AAGTAAGAAATAAATACACATCCAGTGTACTAATAATTTAACAATCACTC\\\n",
    "TTTAGTGTCTTTTGGCCATCAGAAAATTATATTGTCTTGTAGACAACCAA\""
   ]
  },
  {
   "cell_type": "code",
   "execution_count": 31,
   "metadata": {},
   "outputs": [
    {
     "data": {
      "text/plain": [
       "'AAGCATTGTAATGTGAAATACAAGTACAATGGAAACATAGAAAAAGGAACAATAAGGGTAGACTGGGATAGAGAAACTGGCTGGGAGGAGACAAGACCAAACTGGAGCCATGGATAATGGATAGAAGGAAGATACACAGATTATACTGTATTGTGTAGTTTGTGCATAGGAAATTACTGAATACATATAAATATAAAATTGATGTTCGCAGAGAATAGTTAAGTGCTTTCCTTTGATTCTGCAAAGTCATATATTACCCCTCTCTTTCTTTCTGAATTTCCTTTTGGATGGCAATTGAGGAAGTAAGAAATAAATACACATCCAGTGTACTAATAATTTAACAATCACTCTTTAGTGTCTTTTGGCCATCAGAAAATTATATTGTCTTGTAGACAACCAA'"
      ]
     },
     "execution_count": 31,
     "metadata": {},
     "output_type": "execute_result"
    }
   ],
   "source": [
    "amplicon"
   ]
  },
  {
   "cell_type": "code",
   "execution_count": 32,
   "metadata": {},
   "outputs": [],
   "source": [
    "fwd_adapter = 'CAAGCAGAAGACGGCATACGAGATGCACT'\n",
    "rev_adapter = 'AATGATACGGCGACCACCGAGATCTCGTA'\n",
    "rev_adapter_rc = str(Seq(rev_adapter).reverse_complement())"
   ]
  },
  {
   "cell_type": "code",
   "execution_count": 33,
   "metadata": {},
   "outputs": [
    {
     "data": {
      "text/plain": [
       "'CAAGCAGAAGACGGCATACGAGATGCACTAAGCATTGTAATGTGAAATACAAGTACAATGGAAACATAGAAAAAGGAACAATAAGGGTAGACTGGGATAGAGAAACTGGCTGGGAGGAGACAAGACCAAACTGGAGCCATGGATAATGGATAGAAGGAAGATACACAGATTATACTGTATTGTGTAGTTTGTGCATAGGAAATTACTGAATACATATAAATATAAAATTGATGTTCGCAGAGAATAGTTAAGTGCTTTCCTTTGATTCTGCAAAGTCATATATTACCCCTCTCTTTCTTTCTGAATTTCCTTTTGGATGGCAATTGAGGAAGTAAGAAATAAATACACATCCAGTGTACTAATAATTTAACAATCACTCTTTAGTGTCTTTTGGCCATCAGAAAATTATATTGTCTTGTAGACAACCAATACGAGATCTCGGTGGTCGCCGTATCATT'"
      ]
     },
     "execution_count": 33,
     "metadata": {},
     "output_type": "execute_result"
    }
   ],
   "source": [
    "seq_a = fwd_adapter + amplicon + rev_adapter_rc\n",
    "seq_a"
   ]
  },
  {
   "cell_type": "code",
   "execution_count": 34,
   "metadata": {},
   "outputs": [
    {
     "data": {
      "text/plain": [
       "'AATGATACGGCGACCACCGAGATCTCGTATTGGTTGTCTACAAGACAATATAATTTTCTGATGGCCAAAAGACACTAAAGAGTGATTGTTAAATTATTAGTACACTGGATGTGTATTTATTTCTTACTTCCTCAATTGCCATCCAAAAGGAAATTCAGAAAGAAAGAGAGGGGTAATATATGACTTTGCAGAATCAAAGGAAAGCACTTAACTATTCTCTGCGAACATCAATTTTATATTTATATGTATTCAGTAATTTCCTATGCACAAACTACACAATACAGTATAATCTGTGTATCTTCCTTCTATCCATTATCCATGGCTCCAGTTTGGTCTTGTCTCCTCCCAGCCAGTTTCTCTATCCCAGTCTACCCTTATTGTTCCTTTTTCTATGTTTCCATTGTACTTGTATTTCACATTACAATGCTTAGTGCATCTCGTATGCCGTCTTCTGCTTG'"
      ]
     },
     "execution_count": 34,
     "metadata": {},
     "output_type": "execute_result"
    }
   ],
   "source": [
    "seq_a_rc = str(Seq(seq_a).reverse_complement())\n",
    "seq_a_rc"
   ]
  },
  {
   "cell_type": "code",
   "execution_count": 35,
   "metadata": {},
   "outputs": [],
   "source": [
    "n_reads = 1000\n",
    "fastq = open( 'sample_1_R1.fastq' , \"a\")\n",
    "ticker = 1\n",
    "for n in range(n_reads):\n",
    "      fastq.write(f\"@read_{ticker}\")\n",
    "      fastq.write(\"\\n\")\n",
    "      fastq.write(seq_a[0:250])\n",
    "      fastq.write(\"\\n\")\n",
    "      fastq.write(\"+\")\n",
    "      fastq.write(\"\\n\")\n",
    "      fastq.write(\"F\"*250)\n",
    "      fastq.write(\"\\n\")\n",
    "      ticker += 1\n",
    "\n",
    "fastq.close()\n",
    "\n",
    "\n",
    "fastq2 = open( 'sample_1_R2.fastq' , \"a\")\n",
    "ticker = 1\n",
    "for n in range(n_reads):\n",
    "      fastq2.write(f\"@read_{ticker}\")\n",
    "      fastq2.write(\"\\n\")\n",
    "      fastq2.write(seq_a_rc[0:250])\n",
    "      fastq2.write(\"\\n\")\n",
    "      fastq2.write(\"+\")\n",
    "      fastq2.write(\"\\n\")\n",
    "      fastq2.write(\"F\"*250)\n",
    "      fastq2.write(\"\\n\")\n",
    "      ticker += 1\n",
    "\n",
    "fastq2.close()"
   ]
  }
 ],
 "metadata": {
  "kernelspec": {
   "display_name": "base",
   "language": "python",
   "name": "python3"
  },
  "language_info": {
   "codemirror_mode": {
    "name": "ipython",
    "version": 3
   },
   "file_extension": ".py",
   "mimetype": "text/x-python",
   "name": "python",
   "nbconvert_exporter": "python",
   "pygments_lexer": "ipython3",
   "version": "3.9.10"
  }
 },
 "nbformat": 4,
 "nbformat_minor": 2
}
